{
 "cells": [
  {
   "cell_type": "code",
   "execution_count": 1,
   "id": "e0a6dfce",
   "metadata": {},
   "outputs": [
    {
     "name": "stdout",
     "output_type": "stream",
     "text": [
      "Writing app1.py\n"
     ]
    }
   ],
   "source": [
    "%%writefile app1.py\n",
    "import streamlit as st\n",
    "import pandas as pd\n",
    "import shap\n",
    "import matplotlib.pyplot as plt\n",
    "from sklearn import datasets\n",
    "from sklearn.ensemble import RandomForestRegressor\n",
    "#define name of the app\n",
    "st.write(\"\"\"\n",
    "# House priceing regression\n",
    "\"\"\")\n",
    "st.write('----')\n",
    "\n",
    "# load data to know boundries boston is data set from sklearn\n",
    "#data columns\n",
    "boston=datasets.load_boston()\n",
    "X=pd.DataFrame(boston.data,columns=boston.feature_names)\n",
    "#target outputs\n",
    "Y=pd.DataFrame(boston.target,columns=['MEDV'])\n",
    "\n",
    "# crate sidebar\n",
    "# declare the input section user\n",
    "# build function \n",
    "#sidebar slider ___________\n",
    "st.sidebar.header('please Mohamed inter input')\n",
    "#function to take input from user\n",
    "def user_input_features():\n",
    "    # declaration for variables to hold the data\n",
    "    CRIM=st.sidebar.slider('CRIM', X.CRIM.min(), X.CRIM.max(), X.CRIM.mean())\n",
    "    ZN=st.sidebar.slider('ZN', X.ZN.min(), X.ZN.max(), X.ZN.mean())\n",
    "    INDUS=st.sidebar.slider('INDUS', X.INDUS.min(), X.INDUS.max(), X.INDUS.mean())\n",
    "    CHAS=st.sidebar.slider('CHAS', X.CHAS.min(), X.CHAS.max(), X.CHAS.mean())\n",
    "    NOX=st.sidebar.slider('NOX', X.NOX.min(), X.NOX.max(), X.NOX.mean())\n",
    "    RM=st.sidebar.slider('RM', X.RM.min(), X.RM.max(), X.RM.mean())\n",
    "    AGE=st.sidebar.slider('AGE', X.AGE.min(), X.AGE.max(), X.AGE.mean())\n",
    "    DIS=st.sidebar.slider('DIS', X.DIS.min(), X.DIS.max(), X.DIS.mean())\n",
    "    RAD=st.sidebar.slider('RAD', X.RAD.min(), X.RAD.max(), X.RAD.mean())\n",
    "    TAX=st.sidebar.slider('TAX', X.TAX.min(), X.TAX.max(), X.TAX.mean())\n",
    "    PTRATIO=st.sidebar.slider('PTRATIO', X.PTRATIO.min(), X.PTRATIO.max(), X.PTRATIO.mean())\n",
    "    B=st.sidebar.slider('B', X.B.min(), X.B.max(), X.B.mean())\n",
    "    LSTAT=st.sidebar.slider('LSTAT', X.LSTAT.min(), X.LSTAT.max(), X.LSTAT.mean())\n",
    "    #preparing the output of the function\n",
    "#bas data set EX: 'CRIM':CRIM    \n",
    "    data={\n",
    "        'CRIM':CRIM,\n",
    "        'ZN':ZN,\n",
    "        'INDUS':INDUS,\n",
    "        'CHAS':CHAS,\n",
    "        'NOX':NOX,\n",
    "        'RM':RM,\n",
    "        'AGE':AGE,\n",
    "        'DIS':DIS,\n",
    "        'RAD':RAD,\n",
    "        'TAX':TAX,\n",
    "        'PTRATIO':PTRATIO,\n",
    "        'B':B,\n",
    "        'LSTAT':LSTAT}\n",
    "    # prepare to model\n",
    "    features=pd.DataFrame(data,index=[0])\n",
    "    return features\n",
    "    \n",
    "df=user_input_features()\n",
    "# print the input to user\n",
    "st.write('this is your input')\n",
    "st.write(df)\n",
    "# bulid line _____---------\n",
    "st.write('----')\n",
    "\n",
    "# load model train model-\n",
    "model=RandomForestRegressor()\n",
    "model.fit(X,Y)\n",
    "prediction=model.predict(df)\n",
    "\n",
    "#output section\n",
    "st.header('predicton of MEDV')\n",
    "st.write(prediction)"
   ]
  },
  {
   "cell_type": "code",
   "execution_count": null,
   "id": "1200e2f8",
   "metadata": {},
   "outputs": [],
   "source": [
    "! streamlit run app1.py"
   ]
  },
  {
   "cell_type": "code",
   "execution_count": null,
   "id": "08db2dbc",
   "metadata": {},
   "outputs": [],
   "source": []
  }
 ],
 "metadata": {
  "kernelspec": {
   "display_name": "Python 3",
   "language": "python",
   "name": "python3"
  },
  "language_info": {
   "codemirror_mode": {
    "name": "ipython",
    "version": 3
   },
   "file_extension": ".py",
   "mimetype": "text/x-python",
   "name": "python",
   "nbconvert_exporter": "python",
   "pygments_lexer": "ipython3",
   "version": "3.8.8"
  }
 },
 "nbformat": 4,
 "nbformat_minor": 5
}
