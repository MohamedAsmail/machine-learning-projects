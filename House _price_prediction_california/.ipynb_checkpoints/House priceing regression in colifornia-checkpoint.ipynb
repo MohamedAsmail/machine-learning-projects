{
 "cells": [
  {
   "cell_type": "code",
   "execution_count": 1,
   "id": "87bd24e4",
   "metadata": {},
   "outputs": [],
   "source": [
    "import numpy as np\n",
    "import pandas as plt"
   ]
  },
  {
   "cell_type": "code",
   "execution_count": 2,
   "id": "2cbdb2bd",
   "metadata": {},
   "outputs": [],
   "source": [
    "from sklearn.datasets import fetch_california_housing"
   ]
  },
  {
   "cell_type": "code",
   "execution_count": 17,
   "id": "c7de8dad",
   "metadata": {},
   "outputs": [
    {
     "name": "stdout",
     "output_type": "stream",
     "text": [
      "Overwriting app1.py\n"
     ]
    }
   ],
   "source": [
    "%%writefile appone.py\n",
    "import streamlit as st\n",
    "import pandas as pd\n",
    "import shap\n",
    "import matplotlib.pyplot as plt\n",
    "from sklearn import datasets\n",
    "from sklearn.ensemble import RandomForestRegressor\n",
    "from sklearn.datasets import fetch_california_housing\n",
    "from sklearn.model_selection import train_test_split\n",
    "st.write(\"\"\"\n",
    "# House priceing regression in colifornia\n",
    "\"\"\")\n",
    "st.write('-----')\n",
    "# load the dataset\n",
    "cal_housing = fetch_california_housing()\n",
    "X=pd.DataFrame(cal_housing.data, columns=cal_housing.feature_names)\n",
    "Y=pd.DataFrame(cal_housing.target,columns=['MEDV'])\n",
    "#declare the input section\n",
    "st.sidebar.header('please enter input')\n",
    "#function take input from user\n",
    "def user_input_features():\n",
    "    #declaration for variables to hold the data\n",
    "    MedInc=st.sidebar.slider('MedInc',X.MedInc.min(),X.MedInc.max(),X.MedInc.mean())\n",
    "    HouseAge=st.sidebar.slider('HouseAge',X.HouseAge.min(),X.HouseAge.max(),X.HouseAge.mean())\n",
    "    AveRooms=st.sidebar.slider('AveRooms',X.AveRooms.min(),X.AveRooms.max(),X.AveRooms.mean()) \n",
    "    AveBedrms=st.sidebar.slider('AveBedrms',X.AveBedrms.min(),X.AveBedrms.max(),X.AveBedrms.mean()) \n",
    "    Population=st.sidebar.slider('Population',X.Population.min(),X.Population.max(),X.Population.mean()) \n",
    "    AveOccup=st.sidebar.slider('AveOccup',X.AveOccup.min(),X.AveOccup.max(),X.AveOccup.mean())\n",
    "    Latitude=st.sidebar.slider('Latitude',X.Latitude.min(),X.Latitude.max(),X.Latitude.mean()) \n",
    "    Longitude=st.sidebar.slider('Longitude',X.MedInc.min(),X.Longitude.max(),X.Longitude.mean())\n",
    "    #preparing the output of the function\n",
    "    data={\n",
    "        'MedInc':MedInc,\n",
    "        'HouseAge':HouseAge,\n",
    "        'AveRooms':AveRooms,\n",
    "        'AveBedrms':AveBedrms,\n",
    "        'Population':Population,\n",
    "        'AveOccup':AveOccup,\n",
    "        'Latitude':Latitude,\n",
    "        'Longitude':Longitude\n",
    "    }\n",
    "    features=pd.DataFrame(data,index=[0])\n",
    "    return features\n",
    "    \n",
    "df=user_input_features()\n",
    "st.write('this is your input')\n",
    "st.write(df)\n",
    "st.write('-----')\n",
    "\n",
    "# load model -train model-\n",
    "model=RandomForestRegressor()\n",
    "model.fit(X,Y)\n",
    "\n",
    "#this is the predictionj\n",
    "prediction=model.predict(df)\n",
    "st.header(\"prediction\")\n",
    "st.write(prediction)\n",
    "st.write(\"متوسط سعر المنزل\")\n"
   ]
  },
  {
   "cell_type": "code",
   "execution_count": 18,
   "id": "890962af",
   "metadata": {},
   "outputs": [
    {
     "name": "stdout",
     "output_type": "stream",
     "text": [
      "^C\n"
     ]
    }
   ],
   "source": [
    "! streamlit run app1.py"
   ]
  },
  {
   "cell_type": "code",
   "execution_count": 11,
   "id": "69a91fcf",
   "metadata": {},
   "outputs": [],
   "source": [
    "import pandas as pd\n",
    "from sklearn.datasets import fetch_california_housing\n",
    "from sklearn.model_selection import train_test_split\n",
    "\n",
    "cal_housing = fetch_california_housing()\n",
    "X = pd.DataFrame(cal_housing.data, columns=cal_housing.feature_names)\n",
    "y = cal_housing.target\n",
    "\n",
    "y -= y.mean()\n",
    "\n",
    "X_train, X_test, y_train, y_test = train_test_split(X, y, test_size=0.1, random_state=0)\n"
   ]
  },
  {
   "cell_type": "code",
   "execution_count": 18,
   "id": "ad727cc3",
   "metadata": {},
   "outputs": [
    {
     "data": {
      "text/html": [
       "<div>\n",
       "<style scoped>\n",
       "    .dataframe tbody tr th:only-of-type {\n",
       "        vertical-align: middle;\n",
       "    }\n",
       "\n",
       "    .dataframe tbody tr th {\n",
       "        vertical-align: top;\n",
       "    }\n",
       "\n",
       "    .dataframe thead th {\n",
       "        text-align: right;\n",
       "    }\n",
       "</style>\n",
       "<table border=\"1\" class=\"dataframe\">\n",
       "  <thead>\n",
       "    <tr style=\"text-align: right;\">\n",
       "      <th></th>\n",
       "      <th>MedInc</th>\n",
       "      <th>HouseAge</th>\n",
       "      <th>AveRooms</th>\n",
       "      <th>AveBedrms</th>\n",
       "      <th>Population</th>\n",
       "      <th>AveOccup</th>\n",
       "      <th>Latitude</th>\n",
       "      <th>Longitude</th>\n",
       "    </tr>\n",
       "  </thead>\n",
       "  <tbody>\n",
       "    <tr>\n",
       "      <th>0</th>\n",
       "      <td>8.3252</td>\n",
       "      <td>41.0</td>\n",
       "      <td>6.984127</td>\n",
       "      <td>1.023810</td>\n",
       "      <td>322.0</td>\n",
       "      <td>2.555556</td>\n",
       "      <td>37.88</td>\n",
       "      <td>-122.23</td>\n",
       "    </tr>\n",
       "    <tr>\n",
       "      <th>1</th>\n",
       "      <td>8.3014</td>\n",
       "      <td>21.0</td>\n",
       "      <td>6.238137</td>\n",
       "      <td>0.971880</td>\n",
       "      <td>2401.0</td>\n",
       "      <td>2.109842</td>\n",
       "      <td>37.86</td>\n",
       "      <td>-122.22</td>\n",
       "    </tr>\n",
       "    <tr>\n",
       "      <th>2</th>\n",
       "      <td>7.2574</td>\n",
       "      <td>52.0</td>\n",
       "      <td>8.288136</td>\n",
       "      <td>1.073446</td>\n",
       "      <td>496.0</td>\n",
       "      <td>2.802260</td>\n",
       "      <td>37.85</td>\n",
       "      <td>-122.24</td>\n",
       "    </tr>\n",
       "    <tr>\n",
       "      <th>3</th>\n",
       "      <td>5.6431</td>\n",
       "      <td>52.0</td>\n",
       "      <td>5.817352</td>\n",
       "      <td>1.073059</td>\n",
       "      <td>558.0</td>\n",
       "      <td>2.547945</td>\n",
       "      <td>37.85</td>\n",
       "      <td>-122.25</td>\n",
       "    </tr>\n",
       "    <tr>\n",
       "      <th>4</th>\n",
       "      <td>3.8462</td>\n",
       "      <td>52.0</td>\n",
       "      <td>6.281853</td>\n",
       "      <td>1.081081</td>\n",
       "      <td>565.0</td>\n",
       "      <td>2.181467</td>\n",
       "      <td>37.85</td>\n",
       "      <td>-122.25</td>\n",
       "    </tr>\n",
       "  </tbody>\n",
       "</table>\n",
       "</div>"
      ],
      "text/plain": [
       "   MedInc  HouseAge  AveRooms  AveBedrms  Population  AveOccup  Latitude  \\\n",
       "0  8.3252      41.0  6.984127   1.023810       322.0  2.555556     37.88   \n",
       "1  8.3014      21.0  6.238137   0.971880      2401.0  2.109842     37.86   \n",
       "2  7.2574      52.0  8.288136   1.073446       496.0  2.802260     37.85   \n",
       "3  5.6431      52.0  5.817352   1.073059       558.0  2.547945     37.85   \n",
       "4  3.8462      52.0  6.281853   1.081081       565.0  2.181467     37.85   \n",
       "\n",
       "   Longitude  \n",
       "0    -122.23  \n",
       "1    -122.22  \n",
       "2    -122.24  \n",
       "3    -122.25  \n",
       "4    -122.25  "
      ]
     },
     "execution_count": 18,
     "metadata": {},
     "output_type": "execute_result"
    }
   ],
   "source": [
    "X.head()"
   ]
  },
  {
   "cell_type": "code",
   "execution_count": null,
   "id": "2f2c0a30",
   "metadata": {},
   "outputs": [],
   "source": []
  }
 ],
 "metadata": {
  "kernelspec": {
   "display_name": "Python 3",
   "language": "python",
   "name": "python3"
  },
  "language_info": {
   "codemirror_mode": {
    "name": "ipython",
    "version": 3
   },
   "file_extension": ".py",
   "mimetype": "text/x-python",
   "name": "python",
   "nbconvert_exporter": "python",
   "pygments_lexer": "ipython3",
   "version": "3.8.8"
  }
 },
 "nbformat": 4,
 "nbformat_minor": 5
}
