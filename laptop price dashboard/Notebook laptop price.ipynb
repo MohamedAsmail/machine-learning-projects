{
 "cells": [
  {
   "cell_type": "code",
   "execution_count": 1,
   "id": "02d867a9",
   "metadata": {},
   "outputs": [
    {
     "name": "stdout",
     "output_type": "stream",
     "text": [
      "Collecting plotly-express\n",
      "  Downloading plotly_express-0.4.1-py2.py3-none-any.whl (2.9 kB)\n",
      "Requirement already satisfied: statsmodels>=0.9.0 in c:\\programdata\\anaconda3\\lib\\site-packages (from plotly-express) (0.12.2)\n",
      "Requirement already satisfied: patsy>=0.5 in c:\\programdata\\anaconda3\\lib\\site-packages (from plotly-express) (0.5.1)\n",
      "Requirement already satisfied: numpy>=1.11 in c:\\programdata\\anaconda3\\lib\\site-packages (from plotly-express) (1.22.3)\n",
      "Collecting plotly>=4.1.0\n",
      "  Downloading plotly-5.9.0-py2.py3-none-any.whl (15.2 MB)\n",
      "Requirement already satisfied: pandas>=0.20.0 in c:\\programdata\\anaconda3\\lib\\site-packages (from plotly-express) (1.2.4)\n",
      "Requirement already satisfied: scipy>=0.18 in c:\\programdata\\anaconda3\\lib\\site-packages (from plotly-express) (1.6.2)\n",
      "Requirement already satisfied: python-dateutil>=2.7.3 in c:\\programdata\\anaconda3\\lib\\site-packages (from pandas>=0.20.0->plotly-express) (2.8.1)\n",
      "Requirement already satisfied: pytz>=2017.3 in c:\\programdata\\anaconda3\\lib\\site-packages (from pandas>=0.20.0->plotly-express) (2021.1)\n",
      "Requirement already satisfied: six in c:\\programdata\\anaconda3\\lib\\site-packages (from patsy>=0.5->plotly-express) (1.15.0)\n",
      "Collecting tenacity>=6.2.0\n",
      "  Downloading tenacity-8.0.1-py3-none-any.whl (24 kB)\n",
      "Installing collected packages: tenacity, plotly, plotly-express\n",
      "Successfully installed plotly-5.9.0 plotly-express-0.4.1 tenacity-8.0.1\n"
     ]
    }
   ],
   "source": [
    "! pip install plotly-express"
   ]
  },
  {
   "cell_type": "code",
   "execution_count": 13,
   "id": "3299f31e",
   "metadata": {},
   "outputs": [],
   "source": [
    "import plotly.express as px\n",
    "import pandas as pd\n",
    "import streamlit as st\n",
    "import seaborn as sns"
   ]
  },
  {
   "cell_type": "code",
   "execution_count": 14,
   "id": "3f3921ca",
   "metadata": {
    "scrolled": true
   },
   "outputs": [],
   "source": [
    "import pandas as pd\n",
    "import numpy as np\n",
    "import matplotlib.pyplot as plt\n",
    "import seaborn as sns"
   ]
  },
  {
   "cell_type": "code",
   "execution_count": 46,
   "id": "d2492b84",
   "metadata": {},
   "outputs": [
    {
     "name": "stderr",
     "output_type": "stream",
     "text": [
      "C:\\ProgramData\\Anaconda3\\lib\\site-packages\\seaborn\\distributions.py:2557: FutureWarning: `distplot` is a deprecated function and will be removed in a future version. Please adapt your code to use either `displot` (a figure-level function with similar flexibility) or `histplot` (an axes-level function for histograms).\n",
      "  warnings.warn(msg, FutureWarning)\n"
     ]
    },
    {
     "data": {
      "image/png": "[encoded data removed]",
      "text/plain": [
       "<Figure size 432x288 with 1 Axes>"
      ]
     },
     "metadata": {
      "needs_background": "light"
     },
     "output_type": "display_data"
    }
   ],
   "source": [
    "sns.distplot(np.log(df['Price']))\n",
    "plt.show()"
   ]
  },
  {
   "cell_type": "code",
   "execution_count": 15,
   "id": "0ebb5c52",
   "metadata": {
    "scrolled": true
   },
   "outputs": [
    {
     "data": {
      "text/html": [
       "<div>\n",
       "<style scoped>\n",
       "    .dataframe tbody tr th:only-of-type {\n",
       "        vertical-align: middle;\n",
       "    }\n",
       "\n",
       "    .dataframe tbody tr th {\n",
       "        vertical-align: top;\n",
       "    }\n",
       "\n",
       "    .dataframe thead th {\n",
       "        text-align: right;\n",
       "    }\n",
       "</style>\n",
       "<table border=\"1\" class=\"dataframe\">\n",
       "  <thead>\n",
       "    <tr style=\"text-align: right;\">\n",
       "      <th></th>\n",
       "      <th>Company</th>\n",
       "      <th>TypeName</th>\n",
       "      <th>Ram</th>\n",
       "      <th>Weight</th>\n",
       "      <th>Price</th>\n",
       "      <th>Touchscreen</th>\n",
       "      <th>Ips</th>\n",
       "      <th>ppi</th>\n",
       "      <th>Cpu_brand</th>\n",
       "      <th>HDD</th>\n",
       "      <th>SSD</th>\n",
       "      <th>Gpu_brand</th>\n",
       "      <th>os</th>\n",
       "    </tr>\n",
       "  </thead>\n",
       "  <tbody>\n",
       "    <tr>\n",
       "      <th>0</th>\n",
       "      <td>Apple</td>\n",
       "      <td>Ultrabook</td>\n",
       "      <td>8</td>\n",
       "      <td>1.37</td>\n",
       "      <td>71378.6832</td>\n",
       "      <td>0</td>\n",
       "      <td>1</td>\n",
       "      <td>226.983005</td>\n",
       "      <td>Intel Core i5</td>\n",
       "      <td>0</td>\n",
       "      <td>128</td>\n",
       "      <td>Intel</td>\n",
       "      <td>Mac</td>\n",
       "    </tr>\n",
       "    <tr>\n",
       "      <th>1</th>\n",
       "      <td>Apple</td>\n",
       "      <td>Ultrabook</td>\n",
       "      <td>8</td>\n",
       "      <td>1.34</td>\n",
       "      <td>47895.5232</td>\n",
       "      <td>0</td>\n",
       "      <td>0</td>\n",
       "      <td>127.677940</td>\n",
       "      <td>Intel Core i5</td>\n",
       "      <td>0</td>\n",
       "      <td>0</td>\n",
       "      <td>Intel</td>\n",
       "      <td>Mac</td>\n",
       "    </tr>\n",
       "    <tr>\n",
       "      <th>2</th>\n",
       "      <td>HP</td>\n",
       "      <td>Notebook</td>\n",
       "      <td>8</td>\n",
       "      <td>1.86</td>\n",
       "      <td>30636.0000</td>\n",
       "      <td>0</td>\n",
       "      <td>0</td>\n",
       "      <td>141.211998</td>\n",
       "      <td>Intel Core i5</td>\n",
       "      <td>0</td>\n",
       "      <td>256</td>\n",
       "      <td>Intel</td>\n",
       "      <td>Others/No OS/Linux</td>\n",
       "    </tr>\n",
       "    <tr>\n",
       "      <th>3</th>\n",
       "      <td>Apple</td>\n",
       "      <td>Ultrabook</td>\n",
       "      <td>16</td>\n",
       "      <td>1.83</td>\n",
       "      <td>135195.3360</td>\n",
       "      <td>0</td>\n",
       "      <td>1</td>\n",
       "      <td>220.534624</td>\n",
       "      <td>Intel Core i7</td>\n",
       "      <td>0</td>\n",
       "      <td>512</td>\n",
       "      <td>AMD</td>\n",
       "      <td>Mac</td>\n",
       "    </tr>\n",
       "    <tr>\n",
       "      <th>4</th>\n",
       "      <td>Apple</td>\n",
       "      <td>Ultrabook</td>\n",
       "      <td>8</td>\n",
       "      <td>1.37</td>\n",
       "      <td>96095.8080</td>\n",
       "      <td>0</td>\n",
       "      <td>1</td>\n",
       "      <td>226.983005</td>\n",
       "      <td>Intel Core i5</td>\n",
       "      <td>0</td>\n",
       "      <td>256</td>\n",
       "      <td>Intel</td>\n",
       "      <td>Mac</td>\n",
       "    </tr>\n",
       "  </tbody>\n",
       "</table>\n",
       "</div>"
      ],
      "text/plain": [
       "  Company   TypeName  Ram  Weight        Price  Touchscreen  Ips         ppi  \\\n",
       "0   Apple  Ultrabook    8    1.37   71378.6832            0    1  226.983005   \n",
       "1   Apple  Ultrabook    8    1.34   47895.5232            0    0  127.677940   \n",
       "2      HP   Notebook    8    1.86   30636.0000            0    0  141.211998   \n",
       "3   Apple  Ultrabook   16    1.83  135195.3360            0    1  220.534624   \n",
       "4   Apple  Ultrabook    8    1.37   96095.8080            0    1  226.983005   \n",
       "\n",
       "       Cpu_brand  HDD  SSD Gpu_brand                  os  \n",
       "0  Intel Core i5    0  128     Intel                 Mac  \n",
       "1  Intel Core i5    0    0     Intel                 Mac  \n",
       "2  Intel Core i5    0  256     Intel  Others/No OS/Linux  \n",
       "3  Intel Core i7    0  512       AMD                 Mac  \n",
       "4  Intel Core i5    0  256     Intel                 Mac  "
      ]
     },
     "execution_count": 15,
     "metadata": {},
     "output_type": "execute_result"
    }
   ],
   "source": [
    "df=pd.read_csv(\"data.csv\")\n",
    "df.head()"
   ]
  },
  {
   "cell_type": "code",
   "execution_count": 14,
   "id": "8023937b",
   "metadata": {},
   "outputs": [
    {
     "data": {
      "text/html": [
       "<div>\n",
       "<style scoped>\n",
       "    .dataframe tbody tr th:only-of-type {\n",
       "        vertical-align: middle;\n",
       "    }\n",
       "\n",
       "    .dataframe tbody tr th {\n",
       "        vertical-align: top;\n",
       "    }\n",
       "\n",
       "    .dataframe thead th {\n",
       "        text-align: right;\n",
       "    }\n",
       "</style>\n",
       "<table border=\"1\" class=\"dataframe\">\n",
       "  <thead>\n",
       "    <tr style=\"text-align: right;\">\n",
       "      <th></th>\n",
       "      <th>Price</th>\n",
       "    </tr>\n",
       "    <tr>\n",
       "      <th>Company</th>\n",
       "      <th></th>\n",
       "    </tr>\n",
       "  </thead>\n",
       "  <tbody>\n",
       "    <tr>\n",
       "      <th>Vero</th>\n",
       "      <td>4.633762e+04</td>\n",
       "    </tr>\n",
       "    <tr>\n",
       "      <th>Chuwi</th>\n",
       "      <td>5.023718e+04</td>\n",
       "    </tr>\n",
       "    <tr>\n",
       "      <th>Mediacom</th>\n",
       "      <td>1.100232e+05</td>\n",
       "    </tr>\n",
       "    <tr>\n",
       "      <th>Fujitsu</th>\n",
       "      <td>1.165234e+05</td>\n",
       "    </tr>\n",
       "    <tr>\n",
       "      <th>Huawei</th>\n",
       "      <td>1.517414e+05</td>\n",
       "    </tr>\n",
       "    <tr>\n",
       "      <th>Xiaomi</th>\n",
       "      <td>2.415635e+05</td>\n",
       "    </tr>\n",
       "    <tr>\n",
       "      <th>Google</th>\n",
       "      <td>2.681582e+05</td>\n",
       "    </tr>\n",
       "    <tr>\n",
       "      <th>LG</th>\n",
       "      <td>3.355042e+05</td>\n",
       "    </tr>\n",
       "    <tr>\n",
       "      <th>Microsoft</th>\n",
       "      <td>5.154227e+05</td>\n",
       "    </tr>\n",
       "    <tr>\n",
       "      <th>Samsung</th>\n",
       "      <td>6.426634e+05</td>\n",
       "    </tr>\n",
       "    <tr>\n",
       "      <th>Razer</th>\n",
       "      <td>1.247977e+06</td>\n",
       "    </tr>\n",
       "    <tr>\n",
       "      <th>Apple</th>\n",
       "      <td>1.750150e+06</td>\n",
       "    </tr>\n",
       "    <tr>\n",
       "      <th>Toshiba</th>\n",
       "      <td>3.242354e+06</td>\n",
       "    </tr>\n",
       "    <tr>\n",
       "      <th>Acer</th>\n",
       "      <td>3.439645e+06</td>\n",
       "    </tr>\n",
       "    <tr>\n",
       "      <th>MSI</th>\n",
       "      <td>4.974276e+06</td>\n",
       "    </tr>\n",
       "    <tr>\n",
       "      <th>Asus</th>\n",
       "      <td>9.295163e+06</td>\n",
       "    </tr>\n",
       "    <tr>\n",
       "      <th>HP</th>\n",
       "      <td>1.558815e+07</td>\n",
       "    </tr>\n",
       "    <tr>\n",
       "      <th>Lenovo</th>\n",
       "      <td>1.719112e+07</td>\n",
       "    </tr>\n",
       "    <tr>\n",
       "      <th>Dell</th>\n",
       "      <td>1.876855e+07</td>\n",
       "    </tr>\n",
       "  </tbody>\n",
       "</table>\n",
       "</div>"
      ],
      "text/plain": [
       "                  Price\n",
       "Company                \n",
       "Vero       4.633762e+04\n",
       "Chuwi      5.023718e+04\n",
       "Mediacom   1.100232e+05\n",
       "Fujitsu    1.165234e+05\n",
       "Huawei     1.517414e+05\n",
       "Xiaomi     2.415635e+05\n",
       "Google     2.681582e+05\n",
       "LG         3.355042e+05\n",
       "Microsoft  5.154227e+05\n",
       "Samsung    6.426634e+05\n",
       "Razer      1.247977e+06\n",
       "Apple      1.750150e+06\n",
       "Toshiba    3.242354e+06\n",
       "Acer       3.439645e+06\n",
       "MSI        4.974276e+06\n",
       "Asus       9.295163e+06\n",
       "HP         1.558815e+07\n",
       "Lenovo     1.719112e+07\n",
       "Dell       1.876855e+07"
      ]
     },
     "execution_count": 14,
     "metadata": {},
     "output_type": "execute_result"
    }
   ],
   "source": [
    "df.groupby(by=[\"Company\"]).sum()[[\"Price\"]].sort_values(by=\"Price\")"
   ]
  },
  {
   "cell_type": "code",
   "execution_count": 39,
   "id": "ce63f226",
   "metadata": {},
   "outputs": [],
   "source": [
    "df.drop('Unnamed: 0',axis=1,inplace=True)"
   ]
  },
  {
   "cell_type": "code",
   "execution_count": 93,
   "id": "ec6de025",
   "metadata": {},
   "outputs": [
    {
     "data": {
      "text/plain": [
       "(1302, 13)"
      ]
     },
     "execution_count": 93,
     "metadata": {},
     "output_type": "execute_result"
    }
   ],
   "source": [
    "df.shape"
   ]
  },
  {
   "cell_type": "markdown",
   "id": "ea2f9ed1",
   "metadata": {},
   "source": [
    "###  convert csv to xlsx"
   ]
  },
  {
   "cell_type": "code",
   "execution_count": 31,
   "id": "a5dc8fdf",
   "metadata": {},
   "outputs": [],
   "source": [
    "excelwriter=pd.ExcelWriter(\"old.xlsx\")"
   ]
  },
  {
   "cell_type": "code",
   "execution_count": 32,
   "id": "0920dc2e",
   "metadata": {},
   "outputs": [],
   "source": [
    "df.to_excel(excelwriter)"
   ]
  },
  {
   "cell_type": "code",
   "execution_count": 33,
   "id": "034301e0",
   "metadata": {},
   "outputs": [],
   "source": [
    "excelwriter.save()"
   ]
  },
  {
   "cell_type": "markdown",
   "id": "3ccebc93",
   "metadata": {},
   "source": [
    "###  _________web app deployment______________"
   ]
  },
  {
   "cell_type": "code",
   "execution_count": 9,
   "id": "f613e315",
   "metadata": {
    "scrolled": true
   },
   "outputs": [
    {
     "name": "stdout",
     "output_type": "stream",
     "text": [
      "Requirement already satisfied: pandas in c:\\programdata\\anaconda3\\lib\\site-packages (1.2.4)\n",
      "Requirement already satisfied: openpyxl in c:\\programdata\\anaconda3\\lib\\site-packages (3.0.7)\n",
      "Requirement already satisfied: et-xmlfile in c:\\programdata\\anaconda3\\lib\\site-packages (from openpyxl) (1.0.1)\n",
      "Requirement already satisfied: python-dateutil>=2.7.3 in c:\\programdata\\anaconda3\\lib\\site-packages (from pandas) (2.8.1)\n",
      "Requirement already satisfied: pytz>=2017.3 in c:\\programdata\\anaconda3\\lib\\site-packages (from pandas) (2021.1)\n",
      "Requirement already satisfied: numpy>=1.16.5 in c:\\programdata\\anaconda3\\lib\\site-packages (from pandas) (1.22.3)\n",
      "Requirement already satisfied: six>=1.5 in c:\\programdata\\anaconda3\\lib\\site-packages (from python-dateutil>=2.7.3->pandas) (1.15.0)\n"
     ]
    }
   ],
   "source": [
    "! pip install pandas openpyxl"
   ]
  },
  {
   "cell_type": "code",
   "execution_count": 5,
   "id": "224188eb",
   "metadata": {},
   "outputs": [
    {
     "name": "stdout",
     "output_type": "stream",
     "text": [
      "Overwriting dashboard.py\n"
     ]
    }
   ],
   "source": [
    "%%writefile dashboard.py\n",
    "\n",
    "import plotly.express as px\n",
    "import pandas as pd\n",
    "import streamlit as st\n",
    "import seaborn as sns\n",
    "import numpy as np\n",
    "import matplotlib.pyplot as plt\n",
    "\n",
    "st.set_page_config(page_title=\"sales dashboard \",\n",
    "                   page_icon=\":bar_chart:\",\n",
    "                   layout=\"wide\"\n",
    ")                 \n",
    "\n",
    "df=pd.read_csv(\"data.csv\")\n",
    "\n",
    "\n",
    "\n",
    "\n",
    "# sns.distplot(np.log(df['Price']))\n",
    "# plt.show()\n",
    "\n",
    "# df=pd.read_excel(io='new.xlsx',\n",
    "#     sheet_name='Sheet1',\n",
    "#     engine='openpyxl',\n",
    "#     skiprows=3,\n",
    "#     usecols='A:N',\n",
    "#     nrows=1302,\n",
    "# )\n",
    "\n",
    "# st.dataframe(df)\n",
    "\n",
    "st.sidebar.header(\"please filter Here:\")\n",
    "company=st.sidebar.multiselect(\n",
    "     \"select the Company\",\n",
    "    options=df[\"Company\"].unique(),\n",
    "    default=df[\"Company\"].unique()\n",
    ")\n",
    "\n",
    "\n",
    "typeName=st.sidebar.multiselect(\n",
    "     \"select the TypeName\",\n",
    "    options=df[\"TypeName\"].unique(),\n",
    "    default=df[\"TypeName\"].unique()\n",
    ")\n",
    "\n",
    "\n",
    "ram=st.sidebar.multiselect(\n",
    "     \"select the Ram\",\n",
    "    options=df[\"Ram\"].unique(),\n",
    "    default=df[\"Ram\"].unique()\n",
    ")\n",
    "\n",
    "\n",
    "\n",
    "\n",
    "df_selection =df.query(        \n",
    "       \"Company == @company & TypeName == @typeName & Ram == @ram\"\n",
    ")\n",
    "\n",
    "\n",
    "# st.dataframe(df_selection)\n",
    "\n",
    "\n",
    "\n",
    "\n",
    "st.title(\":bar_chart:laptop prices dashboard \")\n",
    "st.markdown(\"##\")\n",
    "\n",
    "total_sales = int(df_selection[\"Price\"].sum())\n",
    "average_Weight =round(df_selection[\"Weight\"].mean(),1)\n",
    "star_Weight = \":star:\"* int(round(average_Weight, 0))\n",
    "average_sale_by_transaction = round(df_selection[\"Price\"].mean(),2)\n",
    "\n",
    "left_column, middle_column ,right_column =st.columns(3)\n",
    "with left_column:\n",
    "    st.subheader(\"Totel sales:\")\n",
    "    st.subheader(f\"US $ {total_sales:,}\")     \n",
    "with middle_column:\n",
    "    st.subheader(\"Average Weight:\")\n",
    "    st.subheader(f\"{average_Weight} {star_Weight}\")\n",
    "with right_column:\n",
    "    st.subheader(\"Average Sales Per Transaction:\")\n",
    "    st.subheader(f\"US $ {average_sale_by_transaction}\") \n",
    "                        \n",
    "st.markdown(\"---\")\n",
    "\n",
    "\n",
    "\n",
    "\n",
    "\n",
    "# this stap is drow Cpu_brand with price\n",
    "\n",
    "sales_by_Cpu_brand_line= (\n",
    "    df_selection.groupby(by=[\"Cpu_brand\"]).sum()[[\"Price\"]].sort_values(by=\"Price\")\n",
    "\n",
    "\n",
    ")\n",
    "\n",
    "\n",
    "fig_cpu_brand_price=px.bar(\n",
    "    \n",
    "    sales_by_Cpu_brand_line,\n",
    "    x=\"Price\",\n",
    "    y=sales_by_Cpu_brand_line.index,\n",
    "    orientation=\"h\",\n",
    "    title=\"<B>prices by brand line</b>\",\n",
    "    color_discrete_sequence=[\"#0083B8\"] * len(sales_by_Cpu_brand_line),\n",
    "    template=\"plotly_white\",\n",
    "\n",
    ")\n",
    "fig_cpu_brand_price.update_layout(\n",
    "    plot_bgcolor=\"rgba(0,0,0,0)\",\n",
    "    xaxis=(dict(showgrid=False))\n",
    "\n",
    "\n",
    ")\n",
    "\n",
    "\n",
    "# st.plotly_chart(fig_cpu_brand_price)\n",
    "\n",
    "\n",
    "# this stap is company with price\n",
    "\n",
    "sales_company_line= (\n",
    "    df_selection.groupby(by=[\"Company\"]).sum()[[\"Price\"]]\n",
    "\n",
    "\n",
    ")\n",
    "\n",
    "\n",
    "fig_company_price=px.bar(\n",
    "    \n",
    "    sales_company_line,\n",
    "    x=\"Price\",\n",
    "    y=sales_company_line.index,\n",
    "    orientation=\"h\",\n",
    "    title=\"<B>prices by company line</b>\",\n",
    "    color_discrete_sequence=[\"#0083B8\"] * len(sales_company_line),\n",
    "    template=\"plotly_white\",\n",
    "\n",
    ")\n",
    "fig_company_price.update_layout(\n",
    "    plot_bgcolor=\"rgba(0,0,0,0)\",\n",
    "    yaxis=(dict(showgrid=False))\n",
    "\n",
    "\n",
    ")\n",
    "\n",
    "left_column,right_column=st.columns(2)\n",
    "left_column.plotly_chart(fig_company_price,use_container_width=True)\n",
    "right_column.plotly_chart(fig_cpu_brand_price,use_container_width=True)\n",
    "\n",
    "\n",
    "# hide_streamlit style\n",
    "\n",
    "hide_st_style = \"\"\"\n",
    "         <style>\n",
    "         #MainMenu {visibility: hidden,}\n",
    "         foorter {visibility: hidden,}\n",
    "         header {visibility: hidden,}\n",
    "         </style>\n",
    "         \"\"\"\n",
    "st.markdown(hide_st_style,unsafe_allow_html=True)\n",
    "\n",
    "\n"
   ]
  },
  {
   "cell_type": "code",
   "execution_count": 6,
   "id": "a86eabc5",
   "metadata": {},
   "outputs": [
    {
     "name": "stdout",
     "output_type": "stream",
     "text": [
      "^C\n"
     ]
    }
   ],
   "source": [
    "!streamlit run dashboard.py"
   ]
  },
  {
   "cell_type": "code",
   "execution_count": 7,
   "id": "64f4771d",
   "metadata": {},
   "outputs": [
    {
     "name": "stdout",
     "output_type": "stream",
     "text": [
      "heroku/7.60.2 win32-x64 node-v14.19.0\n"
     ]
    }
   ],
   "source": [
    "!heroku --version"
   ]
  },
  {
   "cell_type": "code",
   "execution_count": 10,
   "id": "c197af96",
   "metadata": {},
   "outputs": [
    {
     "name": "stderr",
     "output_type": "stream",
     "text": [
      "'pandas' is not recognized as an internal or external command,\n",
      "operable program or batch file.\n"
     ]
    }
   ],
   "source": [
    "!pandas --version"
   ]
  },
  {
   "cell_type": "code",
   "execution_count": null,
   "id": "370e2125",
   "metadata": {},
   "outputs": [],
   "source": []
  }
 ],
 "metadata": {
  "kernelspec": {
   "display_name": "Python 3",
   "language": "python",
   "name": "python3"
  },
  "language_info": {
   "codemirror_mode": {
    "name": "ipython",
    "version": 3
   },
   "file_extension": ".py",
   "mimetype": "text/x-python",
   "name": "python",
   "nbconvert_exporter": "python",
   "pygments_lexer": "ipython3",
   "version": "3.8.8"
  }
 },
 "nbformat": 4,
 "nbformat_minor": 5
}
